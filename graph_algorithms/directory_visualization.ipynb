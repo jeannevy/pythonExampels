{
 "cells": [
  {
   "cell_type": "code",
   "execution_count": 1,
   "id": "a59894d7",
   "metadata": {},
   "outputs": [],
   "source": [
    "import os\n",
    "from os import path\n",
    "import networkx as nx\n",
    "import ipycytoscape\n",
    "import pandas as pd\n",
    "\n",
    "BASEDIR = 'system'\n",
    "SYSTEM = 'system'\n",
    "\n",
    "IGNORE_ENVS = [\"ignoreme\"]\n",
    "IGNORE_HOSTS = [\"ignoreme\"]\n",
    "\n",
    "envs = os.listdir(path='system')\n",
    "G=nx.Graph()\n",
    "G.add_node(BASEDIR, label=BASEDIR, category='system')\n",
    "system = list()\n",
    "\n",
    "for env in envs:\n",
    "    if env in IGNORE_ENVS:\n",
    "        continue\n",
    "    G.add_node(env, label=env, category=\"environment\")\n",
    "    G.add_edge(SYSTEM, env)\n",
    "    hosts = os.listdir(path=path.join(BASEDIR, env))\n",
    "    for host in hosts:\n",
    "        if host in IGNORE_HOSTS:\n",
    "            continue\n",
    "        G.add_node(host, label=host, category=\"host\")\n",
    "        G.add_edge(env, host)\n",
    "        processes = os.listdir(path=path.join(SYSTEM, env, host, 'bin'))\n",
    "        for instance in processes:\n",
    "            proc = f\"{env}_{host}_{instance}\"\n",
    "            proctype = instance.rstrip(\"1234567890\")\n",
    "            G.add_node(proc, label=f\"{instance}\", category=\"instance\")\n",
    "            G.add_edge(host, proc)\n",
    "            row = {'system': SYSTEM, 'environment': env, 'host': host, 'process': proctype, 'instance': instance}\n",
    "            system.append(row)\n"
   ]
  },
  {
   "cell_type": "code",
   "execution_count": 2,
   "id": "284c21ea",
   "metadata": {},
   "outputs": [
    {
     "data": {
      "text/html": [
       "<div>\n",
       "<style scoped>\n",
       "    .dataframe tbody tr th:only-of-type {\n",
       "        vertical-align: middle;\n",
       "    }\n",
       "\n",
       "    .dataframe tbody tr th {\n",
       "        vertical-align: top;\n",
       "    }\n",
       "\n",
       "    .dataframe thead th {\n",
       "        text-align: right;\n",
       "    }\n",
       "</style>\n",
       "<table border=\"1\" class=\"dataframe\">\n",
       "  <thead>\n",
       "    <tr style=\"text-align: right;\">\n",
       "      <th></th>\n",
       "      <th>system</th>\n",
       "      <th>environment</th>\n",
       "      <th>host</th>\n",
       "      <th>process</th>\n",
       "      <th>instance</th>\n",
       "    </tr>\n",
       "  </thead>\n",
       "  <tbody>\n",
       "    <tr>\n",
       "      <th>0</th>\n",
       "      <td>system</td>\n",
       "      <td>env1</td>\n",
       "      <td>host1</td>\n",
       "      <td>procA</td>\n",
       "      <td>procA1</td>\n",
       "    </tr>\n",
       "    <tr>\n",
       "      <th>1</th>\n",
       "      <td>system</td>\n",
       "      <td>env1</td>\n",
       "      <td>host1</td>\n",
       "      <td>procA</td>\n",
       "      <td>procA2</td>\n",
       "    </tr>\n",
       "    <tr>\n",
       "      <th>2</th>\n",
       "      <td>system</td>\n",
       "      <td>env1</td>\n",
       "      <td>host1</td>\n",
       "      <td>procA</td>\n",
       "      <td>procA3</td>\n",
       "    </tr>\n",
       "    <tr>\n",
       "      <th>3</th>\n",
       "      <td>system</td>\n",
       "      <td>env1</td>\n",
       "      <td>host1</td>\n",
       "      <td>procB</td>\n",
       "      <td>procB1</td>\n",
       "    </tr>\n",
       "    <tr>\n",
       "      <th>4</th>\n",
       "      <td>system</td>\n",
       "      <td>env1</td>\n",
       "      <td>host1</td>\n",
       "      <td>procB</td>\n",
       "      <td>procB2</td>\n",
       "    </tr>\n",
       "  </tbody>\n",
       "</table>\n",
       "</div>"
      ],
      "text/plain": [
       "   system environment   host process instance\n",
       "0  system        env1  host1   procA   procA1\n",
       "1  system        env1  host1   procA   procA2\n",
       "2  system        env1  host1   procA   procA3\n",
       "3  system        env1  host1   procB   procB1\n",
       "4  system        env1  host1   procB   procB2"
      ]
     },
     "execution_count": 2,
     "metadata": {},
     "output_type": "execute_result"
    }
   ],
   "source": [
    "df = pd.DataFrame(system)\n",
    "df.head()"
   ]
  },
  {
   "cell_type": "code",
   "execution_count": 3,
   "id": "8ccea773",
   "metadata": {},
   "outputs": [
    {
     "data": {
      "text/plain": [
       "system  environment  process\n",
       "system  env1         procA      6\n",
       "                     procB      6\n",
       "        env2         procA      6\n",
       "                     procB      6\n",
       "        env3         procA      6\n",
       "                     procB      6\n",
       "Name: instance, dtype: int64"
      ]
     },
     "execution_count": 3,
     "metadata": {},
     "output_type": "execute_result"
    }
   ],
   "source": [
    "df.groupby(['system', 'environment', 'process'])['instance'].count()"
   ]
  },
  {
   "cell_type": "code",
   "execution_count": null,
   "id": "7661dd0b",
   "metadata": {},
   "outputs": [],
   "source": [
    "df.groupby(['process'])['instance'].count()"
   ]
  },
  {
   "cell_type": "code",
   "execution_count": null,
   "id": "7b1d0baa",
   "metadata": {},
   "outputs": [],
   "source": []
  },
  {
   "cell_type": "code",
   "execution_count": null,
   "id": "ffcadfed",
   "metadata": {},
   "outputs": [],
   "source": []
  },
  {
   "cell_type": "code",
   "execution_count": null,
   "id": "80813143",
   "metadata": {},
   "outputs": [],
   "source": []
  },
  {
   "cell_type": "code",
   "execution_count": null,
   "id": "d2129471",
   "metadata": {},
   "outputs": [],
   "source": [
    "G.nodes(data=True)\n",
    "cytoscape_obj = ipycytoscape.CytoscapeWidget()\n",
    "cytoscape_obj.graph.add_graph_from_networkx(G, directed=True)\n",
    "cytoscape_obj.set_style(\n",
    "    [\n",
    "        {\n",
    "            'selector': 'node',\n",
    "            'style': {\n",
    "                'font-family': 'helvetica',\n",
    "                'font-size': 'data(fontsize)',\n",
    "                'label': 'data(label)',\n",
    "                'background-color': 'lightblue',\n",
    "                \"text-valign\": \"center\",\n",
    "                \"text-halign\": \"center\",\n",
    "            }\n",
    "        },\n",
    "        {\n",
    "            \"selector\": \"edge.directed\",\n",
    "            \"style\": {\n",
    "                \"curve-style\": \"bezier\",\n",
    "                \"target-arrow-shape\": \"triangle\"\n",
    "            },\n",
    "        }\n",
    "    ]\n",
    ")\n",
    "cytoscape_obj"
   ]
  },
  {
   "cell_type": "code",
   "execution_count": null,
   "id": "c4e92bb5",
   "metadata": {},
   "outputs": [],
   "source": []
  },
  {
   "cell_type": "code",
   "execution_count": null,
   "id": "122e1b6b",
   "metadata": {},
   "outputs": [],
   "source": []
  }
 ],
 "metadata": {
  "kernelspec": {
   "display_name": "Python 3 (ipykernel)",
   "language": "python",
   "name": "python3"
  },
  "language_info": {
   "codemirror_mode": {
    "name": "ipython",
    "version": 3
   },
   "file_extension": ".py",
   "mimetype": "text/x-python",
   "name": "python",
   "nbconvert_exporter": "python",
   "pygments_lexer": "ipython3",
   "version": "3.10.0"
  }
 },
 "nbformat": 4,
 "nbformat_minor": 5
}
