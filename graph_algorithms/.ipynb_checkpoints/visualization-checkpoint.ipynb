{
 "cells": [
  {
   "cell_type": "code",
   "execution_count": 117,
   "id": "53bf08e5",
   "metadata": {},
   "outputs": [],
   "source": [
    "from graphs import *\n",
    "from nx_tools import *\n",
    "from ipycytoscape_tools import *\n",
    "\n",
    "EXAMPLE = {\n",
    "    'A': ['B', 'D'],\n",
    "    'B': ['A'],\n",
    "    'C': ['A'],\n",
    "    'D': ['B', 'asdasdasdasdasadE'],\n",
    "    'asdasdasdasdasadE': []\n",
    "}"
   ]
  },
  {
   "cell_type": "code",
   "execution_count": 118,
   "id": "9047d930",
   "metadata": {},
   "outputs": [
    {
     "name": "stdout",
     "output_type": "stream",
     "text": [
      "number_of_nodes: 5\n",
      "number_of_edges: 6\n",
      "nodes_without_edges: 0\n",
      "nodes_with_edges: 5\n",
      "nodes_with_in_edges_only: 1\n",
      "nodes_with_out_edges_only: 1\n",
      "nodes_with_most_in_edges: [('A', 2), ('B', 2), ('asdasdasdasdasadE', 1), ('D', 1), ('C', 0)]\n",
      "nodes_with_most_out_edges: [('D', ['B', 'asdasdasdasdasadE']), ('A', ['B', 'D']), ('C', ['A']), ('B', ['A']), ('asdasdasdasdasadE', [])]\n"
     ]
    }
   ],
   "source": [
    "stats = generate_statistics(EXAMPLE)\n",
    "instability = calculate_instability(EXAMPLE)\n",
    "violations = calculate_violations(EXAMPLE, instability)\n",
    "cycles = detect_all_cycles(EXAMPLE)\n",
    "in_edges, out_edges = extract_edge_numbers(EXAMPLE)\n",
    "for stat in stats:\n",
    "    print(f\"{stat}: {stats[stat]}\")"
   ]
  },
  {
   "cell_type": "code",
   "execution_count": 122,
   "id": "2dd7e77b",
   "metadata": {
    "collapsed": true
   },
   "outputs": [
    {
     "name": "stdout",
     "output_type": "stream",
     "text": [
      "Number of nodes: 5\n",
      "Number of edges: 6\n",
      "Orphan nodes: 0\n",
      "Nodes with edges: 5\n",
      "Nodes with in-edges only: 1\n",
      "Nodes with out-edges only: 1\n"
     ]
    }
   ],
   "source": [
    "print(f\"Number of nodes: {stats['number_of_nodes']}\")\n",
    "print(f\"Number of edges: {stats['number_of_edges']}\")\n",
    "print(f\"Orphan nodes: {stats['nodes_without_edges']}\")\n",
    "print(f\"Nodes with edges: {stats['nodes_with_edges']}\")\n",
    "print(f\"Nodes with in-edges only: {stats['nodes_with_in_edges_only']}\")\n",
    "print(f\"Nodes with out-edges only: {stats['nodes_with_out_edges_only']}\")\n",
    "print(f\"\")"
   ]
  },
  {
   "cell_type": "code",
   "execution_count": 2,
   "id": "7cdb837e",
   "metadata": {},
   "outputs": [],
   "source": [
    "graph = dict_to_nx(EXAMPLE)\n",
    "update_nx_with_instability(graph, instability)\n",
    "update_nx_with_cycles(graph, cycles)\n",
    "update_nx_with_violations(graph, violations)"
   ]
  },
  {
   "cell_type": "code",
   "execution_count": 61,
   "id": "d31a6fec",
   "metadata": {},
   "outputs": [],
   "source": [
    "def update_nx_node_sizes(nx_graph: nx.DiGraph, in_edges: dict[int], default_font_size=10):\n",
    "    max_size = 0\n",
    "    for node, data in nx_graph.nodes(data=True):\n",
    "        if default_font_size * len(data['label']) > max_size:\n",
    "            max_size = default_font_size * len(data['label'])\n",
    "\n",
    "    for node, data in nx_graph.nodes(data=True):\n",
    "        data['fontsize'] = default_font_size\n",
    "        data['width'] = max_size // 2 + 3 * default_font_size\n",
    "        data['height'] = default_font_size * 2\n",
    "    \n",
    "    for node, data in nx_graph.nodes(data=True):\n",
    "        scaling = 1 + in_edges[node] / 4\n",
    "        data['fontsize'] = int(data['fontsize'] * scaling)\n",
    "        data['width'] = int(data['width'] * scaling)\n",
    "        data['height'] = int(data['height'] * scaling)\n",
    "\n",
    "    \n",
    "    \n",
    "update_nx_node_sizes(graph, in_edges, 8)"
   ]
  },
  {
   "cell_type": "code",
   "execution_count": 115,
   "id": "505abbaf",
   "metadata": {},
   "outputs": [],
   "source": [
    "graph_cytoscape = ipycytoscape.CytoscapeWidget()\n",
    "graph_cytoscape.graph.add_graph_from_networkx(graph, directed=True)\n",
    "graph_cytoscape.set_layout(name='klay', spacingFactor=1.5)\n",
    "set_default_cytoscape_style(graph_cytoscape)"
   ]
  },
  {
   "cell_type": "code",
   "execution_count": 116,
   "id": "f6bf6c91",
   "metadata": {},
   "outputs": [
    {
     "data": {
      "application/vnd.jupyter.widget-view+json": {
       "model_id": "21b80d4c39e240dc8d96b399419958a8",
       "version_major": 2,
       "version_minor": 0
      },
      "text/plain": [
       "CytoscapeWidget(cytoscape_layout={'name': 'klay', 'spacingFactor': 1.5}, cytoscape_style=[{'selector': 'node',…"
      ]
     },
     "execution_count": 116,
     "metadata": {},
     "output_type": "execute_result"
    }
   ],
   "source": [
    "graph_cytoscape"
   ]
  }
 ],
 "metadata": {
  "kernelspec": {
   "display_name": "Python 3 (ipykernel)",
   "language": "python",
   "name": "python3"
  },
  "language_info": {
   "codemirror_mode": {
    "name": "ipython",
    "version": 3
   },
   "file_extension": ".py",
   "mimetype": "text/x-python",
   "name": "python",
   "nbconvert_exporter": "python",
   "pygments_lexer": "ipython3",
   "version": "3.10.0"
  }
 },
 "nbformat": 4,
 "nbformat_minor": 5
}
