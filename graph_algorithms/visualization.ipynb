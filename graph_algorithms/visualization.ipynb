{
 "cells": [
  {
   "cell_type": "code",
   "execution_count": null,
   "id": "53bf08e5",
   "metadata": {},
   "outputs": [],
   "source": [
    "from graphs import *\n",
    "from nx_tools import *\n",
    "from ipycytoscape_tools import *\n",
    "\n",
    "EXAMPLE = {\n",
    "    'A': ['B', 'D'],\n",
    "    'B': ['A'],\n",
    "    'C': ['A'],\n",
    "    'D': ['B', 'E'],\n",
    "    'E': []\n",
    "}"
   ]
  },
  {
   "cell_type": "code",
   "execution_count": null,
   "id": "b128e364",
   "metadata": {},
   "outputs": [],
   "source": [
    "stats = generate_statistics(EXAMPLE)\n",
    "instability = calculate_instability(EXAMPLE)\n",
    "violations = calculate_violations(EXAMPLE, instability)\n",
    "cycles = detect_all_cycles(EXAMPLE)\n",
    "in_edges, out_edges = extract_edge_numbers(EXAMPLE)"
   ]
  },
  {
   "cell_type": "code",
   "execution_count": null,
   "id": "25cee0fd",
   "metadata": {},
   "outputs": [],
   "source": [
    "print(f\"Number of nodes: {stats['number_of_nodes']}\")\n",
    "print(f\"Number of edges: {stats['number_of_edges']}\")\n",
    "print(f\"Orphan nodes: {stats['nodes_without_edges']}\")\n",
    "print(f\"Nodes with edges: {stats['nodes_with_edges']}\")\n",
    "print(f\"Nodes with in-edges only: {stats['nodes_with_in_edges_only']}\")\n",
    "print(f\"Nodes with out-edges only: {stats['nodes_with_out_edges_only']}\")\n",
    "print(f\"Nodes with most in-edges:\")\n",
    "for node in stats['nodes_with_most_in_edges']:\n",
    "    print(f\"   {node[0]} has {node[1]} in-edges\")\n",
    "print(f\"Nodes with most out-edges:\")\n",
    "for node in stats['nodes_with_most_out_edges']:\n",
    "    print(f\"   {node[0]} has {node[1]} out-edges\")"
   ]
  },
  {
   "cell_type": "code",
   "execution_count": null,
   "id": "7cdb837e",
   "metadata": {},
   "outputs": [],
   "source": [
    "graph = dict_to_nx(EXAMPLE)\n",
    "update_nx_with_instability(graph, instability)\n",
    "update_nx_with_cycles(graph, cycles)\n",
    "update_nx_with_violations(graph, violations)\n",
    "update_nx_node_sizes(graph, in_edges, 8)"
   ]
  },
  {
   "cell_type": "code",
   "execution_count": null,
   "id": "505abbaf",
   "metadata": {},
   "outputs": [],
   "source": [
    "graph_cytoscape = ipycytoscape.CytoscapeWidget()\n",
    "graph_cytoscape.graph.add_graph_from_networkx(graph, directed=True)\n",
    "graph_cytoscape.set_layout(name='klay', spacingFactor=1.5)\n",
    "set_default_cytoscape_style(graph_cytoscape)"
   ]
  },
  {
   "cell_type": "code",
   "execution_count": null,
   "id": "f6bf6c91",
   "metadata": {},
   "outputs": [],
   "source": [
    "graph_cytoscape"
   ]
  }
 ],
 "metadata": {
  "kernelspec": {
   "display_name": "Python 3 (ipykernel)",
   "language": "python",
   "name": "python3"
  },
  "language_info": {
   "codemirror_mode": {
    "name": "ipython",
    "version": 3
   },
   "file_extension": ".py",
   "mimetype": "text/x-python",
   "name": "python",
   "nbconvert_exporter": "python",
   "pygments_lexer": "ipython3",
   "version": "3.10.0"
  }
 },
 "nbformat": 4,
 "nbformat_minor": 5
}
