{
 "cells": [
  {
   "cell_type": "code",
   "execution_count": 2,
   "id": "53f95912",
   "metadata": {},
   "outputs": [
    {
     "data": {
      "application/vnd.jupyter.widget-view+json": {
       "model_id": "33039aee91444412b8eb528d8e2e5e98",
       "version_major": 2,
       "version_minor": 0
      },
      "text/plain": [
       "CytoscapeWidget(cytoscape_layout={'name': 'cola'}, cytoscape_style=[{'selector': 'node', 'css': {'background-c…"
      ]
     },
     "execution_count": 2,
     "metadata": {},
     "output_type": "execute_result"
    }
   ],
   "source": [
    "import ipycytoscape\n",
    "import networkx as nx\n",
    "\n",
    "PROJECTS = {\n",
    "    'A': ['B', 'D'],\n",
    "    'B': ['A'],\n",
    "    'C': ['A'],\n",
    "    'D': ['B', 'E'],\n",
    "    'E': []\n",
    "}\n",
    "\n",
    "G = nx.DiGraph(PROJECTS)\n",
    "directed = ipycytoscape.CytoscapeWidget()\n",
    "directed.graph.add_graph_from_networkx(G, directed=True)\n",
    "directed"
   ]
  },
  {
   "cell_type": "code",
   "execution_count": 3,
   "id": "97f54076",
   "metadata": {},
   "outputs": [],
   "source": [
    " \n",
    "directed.set_style(\n",
    "    [\n",
    "        {\n",
    "             'selector': 'node',\n",
    "             'style': {\n",
    "                 'font-family': 'helvetica',\n",
    "                 'font-size': '20px',\n",
    "                 'label': 'data(id)'\n",
    "             }\n",
    "        },\n",
    "        {\n",
    "             'selector': 'edge',\n",
    "             'style': {\n",
    "                 'font-family': 'helvetica',\n",
    "                 'font-size': '5px'\n",
    "             }\n",
    "        },\n",
    "        {\n",
    "             'selector': 'node[degree>0]',\n",
    "             'style': {\n",
    "                 'width': '100px',\n",
    "                 'height': '100px'\n",
    "             }\n",
    "        },\n",
    "        {\n",
    "             'selector': 'node[degree>1]',\n",
    "             'style': {\n",
    "                 'width': '150px',\n",
    "                 'height': '150px'\n",
    "             }\n",
    "        },\n",
    "        {\n",
    "             'selector': 'node[degree>2]',\n",
    "             'style': {\n",
    "                 'width': '200px',\n",
    "                 'height': '200px'\n",
    "             }\n",
    "        },\n",
    "        {\n",
    "                \"selector\": \"edge.directed\",\n",
    "                \"style\": {\n",
    "                    \"curve-style\": \"bezier\",\n",
    "                    \"target-arrow-shape\": \"triangle\",\n",
    "                },\n",
    "        }\n",
    "    ]\n",
    ")    "
   ]
  },
  {
   "cell_type": "code",
   "execution_count": 5,
   "id": "9844c0e2",
   "metadata": {},
   "outputs": [
    {
     "data": {
      "application/vnd.jupyter.widget-view+json": {
       "model_id": "43bd1c64ca264d2abf2af68331df320d",
       "version_major": 2,
       "version_minor": 0
      },
      "text/plain": [
       "CytoscapeWidget(cytoscape_layout={'name': 'cola'}, cytoscape_style=[{'selector': 'node', 'css': {'background-c…"
      ]
     },
     "execution_count": 5,
     "metadata": {},
     "output_type": "execute_result"
    }
   ],
   "source": [
    "G = nx.gnp_random_graph(30, .2, directed=True)\n",
    "directed = ipycytoscape.CytoscapeWidget()\n",
    "directed.graph.add_graph_from_networkx(G, directed=True)\n",
    "directed"
   ]
  },
  {
   "cell_type": "code",
   "execution_count": null,
   "id": "d7c1fe76",
   "metadata": {},
   "outputs": [],
   "source": []
  }
 ],
 "metadata": {
  "kernelspec": {
   "display_name": "Python 3 (ipykernel)",
   "language": "python",
   "name": "python3"
  },
  "language_info": {
   "codemirror_mode": {
    "name": "ipython",
    "version": 3
   },
   "file_extension": ".py",
   "mimetype": "text/x-python",
   "name": "python",
   "nbconvert_exporter": "python",
   "pygments_lexer": "ipython3",
   "version": "3.10.0"
  }
 },
 "nbformat": 4,
 "nbformat_minor": 5
}
