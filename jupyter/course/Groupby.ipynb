{
 "cells": [
  {
   "cell_type": "code",
   "execution_count": 1,
   "id": "30e95f63",
   "metadata": {},
   "outputs": [],
   "source": [
    "import pandas as pd\n",
    "import matplotlib.pyplot as plt\n",
    "%matplotlib inline\n",
    "\n",
    "df = pd.read_csv('olympics.csv', skiprows=4)"
   ]
  },
  {
   "cell_type": "code",
   "execution_count": 2,
   "id": "72ce2f7c",
   "metadata": {},
   "outputs": [
    {
     "data": {
      "text/plain": [
       "Edition\n",
       "1896     151\n",
       "1900     512\n",
       "1904     470\n",
       "1908     804\n",
       "1912     885\n",
       "1920    1298\n",
       "1924     884\n",
       "1928     710\n",
       "1932     615\n",
       "1936     875\n",
       "1948     814\n",
       "1952     889\n",
       "1956     885\n",
       "1960     882\n",
       "1964    1010\n",
       "1968    1031\n",
       "1972    1185\n",
       "1976    1305\n",
       "1980    1387\n",
       "1984    1459\n",
       "1988    1546\n",
       "1992    1705\n",
       "1996    1859\n",
       "2000    2015\n",
       "2004    1998\n",
       "2008    2042\n",
       "dtype: int64"
      ]
     },
     "execution_count": 2,
     "metadata": {},
     "output_type": "execute_result"
    }
   ],
   "source": [
    "df.groupby('Edition').size()"
   ]
  },
  {
   "cell_type": "code",
   "execution_count": 5,
   "id": "82eeb80d",
   "metadata": {},
   "outputs": [
    {
     "data": {
      "text/plain": [
       "Edition  NOC  Medal \n",
       "1896     AUS  Gold      2\n",
       "         AUT  Bronze    2\n",
       "              Gold      2\n",
       "              Silver    1\n",
       "         DEN  Bronze    3\n",
       "                       ..\n",
       "2008     UZB  Silver    2\n",
       "         VEN  Bronze    1\n",
       "         VIE  Silver    1\n",
       "         ZIM  Gold      1\n",
       "              Silver    3\n",
       "Length: 2356, dtype: int64"
      ]
     },
     "execution_count": 5,
     "metadata": {},
     "output_type": "execute_result"
    }
   ],
   "source": [
    "df.groupby(['Edition', 'NOC', 'Medal']).size()"
   ]
  },
  {
   "cell_type": "code",
   "execution_count": null,
   "id": "c0d6777f",
   "metadata": {},
   "outputs": [],
   "source": []
  }
 ],
 "metadata": {
  "kernelspec": {
   "display_name": "Python 3 (ipykernel)",
   "language": "python",
   "name": "python3"
  },
  "language_info": {
   "codemirror_mode": {
    "name": "ipython",
    "version": 3
   },
   "file_extension": ".py",
   "mimetype": "text/x-python",
   "name": "python",
   "nbconvert_exporter": "python",
   "pygments_lexer": "ipython3",
   "version": "3.10.0"
  }
 },
 "nbformat": 4,
 "nbformat_minor": 5
}
