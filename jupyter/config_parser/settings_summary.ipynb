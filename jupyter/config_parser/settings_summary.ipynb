{
 "cells": [
  {
   "cell_type": "code",
   "execution_count": 1,
   "id": "71b5e7c4",
   "metadata": {},
   "outputs": [],
   "source": [
    "import xml.etree.ElementTree as ET\n",
    "import os\n",
    "\n",
    "tree = ET.parse(os.path.join('test_data', 'config.xml'))\n",
    "root = tree.getroot()"
   ]
  },
  {
   "cell_type": "code",
   "execution_count": 18,
   "id": "0043a582",
   "metadata": {},
   "outputs": [
    {
     "name": "stdout",
     "output_type": "stream",
     "text": [
      "System dummy_system \n",
      "Environment env1 \n",
      "Process processA \n",
      "Instance host1:processA1 \n",
      "Setting PROCA_SETTING1 foo\n",
      "Setting PROCA_SETTING2 bar\n",
      "Instance host1:processA2 \n",
      "Setting PROCA_SETTING1 foo\n",
      "Setting PROCA_SETTING1 bar\n",
      "Setting PROCA_SETTING2 foo\n"
     ]
    }
   ],
   "source": [
    "def printRecur(root):\n",
    "    print(f\"{root.tag.title()} {root.attrib.get('name')} {root.text.strip()}\")\n",
    "    for elem in root:\n",
    "        printRecur(elem)\n",
    "        \n",
    "printRecur(root)        "
   ]
  },
  {
   "cell_type": "code",
   "execution_count": null,
   "id": "a293ab74",
   "metadata": {},
   "outputs": [],
   "source": []
  }
 ],
 "metadata": {
  "kernelspec": {
   "display_name": "Python 3 (ipykernel)",
   "language": "python",
   "name": "python3"
  },
  "language_info": {
   "codemirror_mode": {
    "name": "ipython",
    "version": 3
   },
   "file_extension": ".py",
   "mimetype": "text/x-python",
   "name": "python",
   "nbconvert_exporter": "python",
   "pygments_lexer": "ipython3",
   "version": "3.10.0"
  }
 },
 "nbformat": 4,
 "nbformat_minor": 5
}
